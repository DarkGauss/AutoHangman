{
 "cells": [
  {
   "cell_type": "code",
   "execution_count": 3,
   "metadata": {},
   "outputs": [],
   "source": [
    "import re\n",
    "\n",
    "#create a dictonary to store all words of a given length\n",
    "en_dict = {}\n",
    "\n",
    "#import the 10,000 most common english words\n",
    "with open(\"words.txt\",\"r\") as words_input:\n",
    "    for word in words_input:\n",
    "        word_clean = word[:-1]\n",
    "        en_dict.setdefault(len(word_clean),[]).append(word_clean)\n",
    "\n",
    "\"\"\"yeilds char's in range\"\"\"\n",
    "def char_range(start,end):\n",
    "    for c in range(ord(start),ord(end)+1):\n",
    "        yield chr(c)\n",
    "\n",
    "\"\"\"constructs regex to match words with letters in places, such as __a_b_\n",
    "and returns bag of letters and length\"\"\"\n",
    "def get_regex(input_word):\n",
    "    length = len(input_word)\n",
    "    expr = \"\"\n",
    "    ltr_bag = \"\"\n",
    "    for letter in input_word:\n",
    "        if letter == '_':\n",
    "            expr += \"[a-z]\"\n",
    "        else:\n",
    "            expr += letter\n",
    "            ltr_bag += letter\n",
    "            \n",
    "    return length, expr, ltr_bag\n",
    "        \n",
    "\"\"\"function to calculate the letter frequency of a word of a given length\n",
    "with letters in the position of not filled by _ \"\"\"\n",
    "def get_freq(input_word):\n",
    "    length, expr, ltr_bag = get_regex(input_word)\n",
    "    c_expr = re.compile(expr)\n",
    "    \n",
    "    freq_letter = {char : 0 for char in char_range('a','z')}\n",
    "    \n",
    "    #find all words of a given length\n",
    "    for word in en_dict[length]:\n",
    "        if c_expr.match(word):\n",
    "            print(word)\n",
    "            w_list = list(word)\n",
    "            for letter in ltr_bag:\n",
    "                w_list.remove(letter)\n",
    "            for letter in w_list:\n",
    "                freq_letter[letter] += 1\n",
    "    return freq_letter\n",
    "    \n",
    "\n"
   ]
  },
  {
   "cell_type": "code",
   "execution_count": null,
   "metadata": {},
   "outputs": [],
   "source": [
    "\"\"\"Displays hangman board corosponding with the current guess\"\"\""
   ]
  },
  {
   "cell_type": "code",
   "execution_count": 24,
   "metadata": {},
   "outputs": [],
   "source": [
    "steps = [\n",
    "\"\"\"\n",
    "\\\n",
    "\\\n",
    "\\\n",
    "\\\n",
    "\\\n",
    "\\\n",
    "|--------------|\\\n",
    "\"\"\",\n",
    "\"\"\"\n",
    "\n",
    "\n",
    "\n",
    "\n",
    "\n",
    "_______________\n",
    "|--------------|\n",
    "\"\"\",\n",
    "\"\"\"\n",
    "_________\n",
    "|\n",
    "|\n",
    "|\n",
    "|\n",
    "|_______________\n",
    "|--------------|\n",
    "\"\"\",\n",
    "\"\"\"\n",
    "_________\n",
    "|         |\n",
    "|\n",
    "|\n",
    "|\n",
    "|_______________\n",
    "|--------------|\n",
    "\"\"\",\n",
    "\"\"\"\n",
    "_________\n",
    "|         |\n",
    "|         0\n",
    "|\n",
    "|\n",
    "|_______________\n",
    "|--------------|\n",
    "\"\"\",\n",
    "\"\"\"\n",
    "_________\n",
    "|         |\n",
    "|         0\n",
    "|         |\n",
    "|\n",
    "|_______________\n",
    "|--------------|\n",
    "\"\"\",\n",
    "\"\"\"\n",
    "_________\n",
    "|         |\n",
    "|         0\n",
    "|         |\\\n",
    "|\n",
    "|_______________\\\n",
    "|--------------|\\\n",
    "\"\"\",\n",
    "\"\"\"\n",
    "_________\\\n",
    "|         |\n",
    "|         0\n",
    "|        /|\\\n",
    "|\n",
    "|_______________\n",
    "|--------------|\n",
    "\"\"\",\n",
    "\"\"\"\n",
    "_________\n",
    "|         |\n",
    "|         0\n",
    "|        /|\\\n",
    "|        /\n",
    "|_______________\n",
    "|--------------|\n",
    "\"\"\",\n",
    "\"\"\"\n",
    "_________\n",
    "|         |\n",
    "|         0\n",
    "|        /|\\\n",
    "|        / \\\n",
    "|_______________\n",
    "|--------------|\n",
    "\"\"\"]"
   ]
  },
  {
   "cell_type": "code",
   "execution_count": 25,
   "metadata": {},
   "outputs": [
    {
     "name": "stdout",
     "output_type": "stream",
     "text": [
      "\n",
      "_________\n",
      "|         |\n",
      "|         0\n",
      "|        /||        / |_______________\n",
      "|--------------|\n",
      "\n"
     ]
    }
   ],
   "source": [
    "print(steps[-1])"
   ]
  },
  {
   "cell_type": "code",
   "execution_count": 39,
   "metadata": {},
   "outputs": [
    {
     "name": "stdout",
     "output_type": "stream",
     "text": [
      "and\n",
      "had\n",
      "add\n",
      "did\n",
      "dvd\n",
      "end\n",
      "old\n",
      "red\n",
      "bad\n",
      "bid\n",
      "wed\n",
      "ltd\n",
      "bed\n",
      "aid\n",
      "led\n",
      "mid\n",
      "lcd\n",
      "usd\n",
      "kid\n",
      "und\n",
      "med\n",
      "mad\n",
      "dad\n",
      "mod\n",
      "aud\n",
      "amd\n",
      "pad\n",
      "rod\n",
      "sad\n",
      "fed\n",
      "odd\n",
      "phd\n",
      "cad\n",
      "cod\n",
      "std\n",
      "vid\n",
      "ted\n",
      "rid\n",
      "dod\n",
      "fwd\n",
      "qld\n",
      "ccd\n",
      "mud\n",
      "lid\n",
      "pod\n",
      "ind\n"
     ]
    },
    {
     "data": {
      "text/plain": [
       "'a'"
      ]
     },
     "execution_count": 39,
     "metadata": {},
     "output_type": "execute_result"
    }
   ],
   "source": [
    "freq = get_freq(\"__d\")\n",
    "max(freq,key = freq.get)"
   ]
  },
  {
   "cell_type": "code",
   "execution_count": 22,
   "metadata": {},
   "outputs": [
    {
     "name": "stdout",
     "output_type": "stream",
     "text": [
      "[a-z][a-z]a[a-z]j[a-z]i[a-z][a-z]z\n"
     ]
    }
   ],
   "source": [
    "get_freq(\"__a_j_i__z\")"
   ]
  },
  {
   "cell_type": "code",
   "execution_count": 26,
   "metadata": {},
   "outputs": [
    {
     "name": "stdout",
     "output_type": "stream",
     "text": [
      "a\n",
      "b\n",
      "c\n",
      "d\n",
      "e\n",
      "f\n",
      "g\n",
      "h\n",
      "i\n",
      "j\n",
      "k\n",
      "l\n",
      "m\n",
      "n\n",
      "o\n",
      "p\n",
      "q\n",
      "r\n",
      "s\n",
      "t\n",
      "u\n",
      "v\n",
      "w\n",
      "x\n",
      "y\n",
      "z\n"
     ]
    }
   ],
   "source": [
    "for char in char_range('a','z'):\n",
    "    print(char)\n"
   ]
  },
  {
   "cell_type": "code",
   "execution_count": null,
   "metadata": {},
   "outputs": [],
   "source": []
  }
 ],
 "metadata": {
  "kernelspec": {
   "display_name": "Python 3",
   "language": "python",
   "name": "python3"
  },
  "language_info": {
   "codemirror_mode": {
    "name": "ipython",
    "version": 3
   },
   "file_extension": ".py",
   "mimetype": "text/x-python",
   "name": "python",
   "nbconvert_exporter": "python",
   "pygments_lexer": "ipython3",
   "version": "3.6.5"
  }
 },
 "nbformat": 4,
 "nbformat_minor": 2
}
